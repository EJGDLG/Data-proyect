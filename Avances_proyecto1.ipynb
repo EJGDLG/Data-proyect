{
  "cells": [
    {
      "cell_type": "markdown",
      "metadata": {
        "id": "V4e7LuNtgeP7"
      },
      "source": [
        "## Análisis del Dataset de Importación de Vehículos\n",
        "\n",
        "**1. Descripción del dataset**\n",
        "- Total de filas: _(se mostrará en ejecución)_\n",
        "- Total de variables: _(se mostrará en ejecución)_\n",
        "\n",
        "**2. Variables que necesitan limpieza**\n",
        "- `pais_de_proveniencia`, `marca`, `modelo_del_vehiculo`, `linea`, `aduana_de_ingreso`, `distintivo`:\n",
        "  - Presentan mayúsculas/minúsculas inconsistentes, espacios, posibles repeticiones o errores.\n",
        "\n",
        "**3. Estrategia de limpieza**\n",
        "- Convertir todo texto a mayúsculas (o capitalizar en casos como el combustible).\n",
        "- Eliminar espacios innecesarios.\n",
        "- Convertir fechas a tipo `datetime` para permitir análisis temporal.\n",
        "- No se eliminarán errores ortográficos si provienen del origen, para conservar fidelidad en informes posteriores.\n",
        "- No se eliminan nombres de establecimientos ni marcas, pero se estandariza su formato.\n"
      ]
    },
    {
      "cell_type": "code",
      "execution_count": 10,
      "metadata": {
        "colab": {
          "base_uri": "https://localhost:8080/"
        },
        "id": "CrmVqD4DZz3p",
        "outputId": "154cde9f-f5c7-426a-fa54-d5ce058ebb78"
      },
      "outputs": [
        {
          "name": "stdout",
          "output_type": "stream",
          "text": [
            "Defaulting to user installation because normal site-packages is not writeable\n",
            "Requirement already satisfied: requests in c:\\users\\wilso\\appdata\\roaming\\python\\python313\\site-packages (2.32.4)\n",
            "Requirement already satisfied: beautifulsoup4 in c:\\users\\wilso\\appdata\\roaming\\python\\python313\\site-packages (4.13.4)\n",
            "Requirement already satisfied: pandas in c:\\users\\wilso\\appdata\\roaming\\python\\python313\\site-packages (2.3.1)\n",
            "Requirement already satisfied: charset_normalizer<4,>=2 in c:\\users\\wilso\\appdata\\roaming\\python\\python313\\site-packages (from requests) (3.4.2)\n",
            "Requirement already satisfied: idna<4,>=2.5 in c:\\users\\wilso\\appdata\\roaming\\python\\python313\\site-packages (from requests) (3.10)\n",
            "Requirement already satisfied: urllib3<3,>=1.21.1 in c:\\users\\wilso\\appdata\\roaming\\python\\python313\\site-packages (from requests) (2.5.0)\n",
            "Requirement already satisfied: certifi>=2017.4.17 in c:\\users\\wilso\\appdata\\roaming\\python\\python313\\site-packages (from requests) (2025.6.15)\n",
            "Requirement already satisfied: soupsieve>1.2 in c:\\users\\wilso\\appdata\\roaming\\python\\python313\\site-packages (from beautifulsoup4) (2.7)\n",
            "Requirement already satisfied: typing-extensions>=4.0.0 in c:\\users\\wilso\\appdata\\roaming\\python\\python313\\site-packages (from beautifulsoup4) (4.14.1)\n",
            "Requirement already satisfied: numpy>=1.26.0 in c:\\users\\wilso\\appdata\\roaming\\python\\python313\\site-packages (from pandas) (2.3.1)\n",
            "Requirement already satisfied: python-dateutil>=2.8.2 in c:\\users\\wilso\\appdata\\roaming\\python\\python313\\site-packages (from pandas) (2.9.0.post0)\n",
            "Requirement already satisfied: pytz>=2020.1 in c:\\users\\wilso\\appdata\\roaming\\python\\python313\\site-packages (from pandas) (2025.2)\n",
            "Requirement already satisfied: tzdata>=2022.7 in c:\\users\\wilso\\appdata\\roaming\\python\\python313\\site-packages (from pandas) (2025.2)\n",
            "Requirement already satisfied: six>=1.5 in c:\\users\\wilso\\appdata\\roaming\\python\\python313\\site-packages (from python-dateutil>=2.8.2->pandas) (1.17.0)\n"
          ]
        },
        {
          "name": "stderr",
          "output_type": "stream",
          "text": [
            "\n",
            "[notice] A new release of pip is available: 25.0.1 -> 25.1.1\n",
            "[notice] To update, run: python.exe -m pip install --upgrade pip\n"
          ]
        },
        {
          "name": "stdout",
          "output_type": "stream",
          "text": [
            "Defaulting to user installation because normal site-packages is not writeable\n",
            "Requirement already satisfied: requests in c:\\users\\wilso\\appdata\\roaming\\python\\python313\\site-packages (2.32.4)\n",
            "Requirement already satisfied: beautifulsoup4 in c:\\users\\wilso\\appdata\\roaming\\python\\python313\\site-packages (4.13.4)\n",
            "Requirement already satisfied: pandas in c:\\users\\wilso\\appdata\\roaming\\python\\python313\\site-packages (2.3.1)\n",
            "Requirement already satisfied: lxml in c:\\users\\wilso\\appdata\\roaming\\python\\python313\\site-packages (6.0.0)\n",
            "Requirement already satisfied: charset_normalizer<4,>=2 in c:\\users\\wilso\\appdata\\roaming\\python\\python313\\site-packages (from requests) (3.4.2)\n",
            "Requirement already satisfied: idna<4,>=2.5 in c:\\users\\wilso\\appdata\\roaming\\python\\python313\\site-packages (from requests) (3.10)\n",
            "Requirement already satisfied: urllib3<3,>=1.21.1 in c:\\users\\wilso\\appdata\\roaming\\python\\python313\\site-packages (from requests) (2.5.0)\n",
            "Requirement already satisfied: certifi>=2017.4.17 in c:\\users\\wilso\\appdata\\roaming\\python\\python313\\site-packages (from requests) (2025.6.15)\n",
            "Requirement already satisfied: soupsieve>1.2 in c:\\users\\wilso\\appdata\\roaming\\python\\python313\\site-packages (from beautifulsoup4) (2.7)\n",
            "Requirement already satisfied: typing-extensions>=4.0.0 in c:\\users\\wilso\\appdata\\roaming\\python\\python313\\site-packages (from beautifulsoup4) (4.14.1)\n",
            "Requirement already satisfied: numpy>=1.26.0 in c:\\users\\wilso\\appdata\\roaming\\python\\python313\\site-packages (from pandas) (2.3.1)\n",
            "Requirement already satisfied: python-dateutil>=2.8.2 in c:\\users\\wilso\\appdata\\roaming\\python\\python313\\site-packages (from pandas) (2.9.0.post0)\n",
            "Requirement already satisfied: pytz>=2020.1 in c:\\users\\wilso\\appdata\\roaming\\python\\python313\\site-packages (from pandas) (2025.2)\n",
            "Requirement already satisfied: tzdata>=2022.7 in c:\\users\\wilso\\appdata\\roaming\\python\\python313\\site-packages (from pandas) (2025.2)\n",
            "Requirement already satisfied: six>=1.5 in c:\\users\\wilso\\appdata\\roaming\\python\\python313\\site-packages (from python-dateutil>=2.8.2->pandas) (1.17.0)\n"
          ]
        },
        {
          "name": "stderr",
          "output_type": "stream",
          "text": [
            "\n",
            "[notice] A new release of pip is available: 25.0.1 -> 25.1.1\n",
            "[notice] To update, run: python.exe -m pip install --upgrade pip\n"
          ]
        }
      ],
      "source": [
        "!pip install requests beautifulsoup4 pandas\n",
        "!pip install requests beautifulsoup4 pandas lxml"
      ]
    },
    {
      "cell_type": "markdown",
      "metadata": {
        "id": "R2A2aopyF-3c"
      },
      "source": [
        "## Codigo donde automatizo la descarga y la unificacion de los txt"
      ]
    },
    {
      "cell_type": "code",
      "execution_count": 11,
      "metadata": {
        "colab": {
          "base_uri": "https://localhost:8080/"
        },
        "id": "luC3-Wdh-Wfb",
        "outputId": "96549bd7-8ddb-4a44-cb92-aa83cb4c0ff7"
      },
      "outputs": [
        {
          "name": "stderr",
          "output_type": "stream",
          "text": [
            "\n",
            "[notice] A new release of pip is available: 25.0.1 -> 25.1.1\n",
            "[notice] To update, run: python.exe -m pip install --upgrade pip\n"
          ]
        },
        {
          "name": "stdout",
          "output_type": "stream",
          "text": [
            "Defaulting to user installation because normal site-packages is not writeable\n",
            "Requirement already satisfied: requests in c:\\users\\wilso\\appdata\\roaming\\python\\python313\\site-packages (2.32.4)\n",
            "Requirement already satisfied: beautifulsoup4 in c:\\users\\wilso\\appdata\\roaming\\python\\python313\\site-packages (4.13.4)\n",
            "Requirement already satisfied: pandas in c:\\users\\wilso\\appdata\\roaming\\python\\python313\\site-packages (2.3.1)\n",
            "Requirement already satisfied: lxml in c:\\users\\wilso\\appdata\\roaming\\python\\python313\\site-packages (6.0.0)\n",
            "Requirement already satisfied: charset_normalizer<4,>=2 in c:\\users\\wilso\\appdata\\roaming\\python\\python313\\site-packages (from requests) (3.4.2)\n",
            "Requirement already satisfied: idna<4,>=2.5 in c:\\users\\wilso\\appdata\\roaming\\python\\python313\\site-packages (from requests) (3.10)\n",
            "Requirement already satisfied: urllib3<3,>=1.21.1 in c:\\users\\wilso\\appdata\\roaming\\python\\python313\\site-packages (from requests) (2.5.0)\n",
            "Requirement already satisfied: certifi>=2017.4.17 in c:\\users\\wilso\\appdata\\roaming\\python\\python313\\site-packages (from requests) (2025.6.15)\n",
            "Requirement already satisfied: soupsieve>1.2 in c:\\users\\wilso\\appdata\\roaming\\python\\python313\\site-packages (from beautifulsoup4) (2.7)\n",
            "Requirement already satisfied: typing-extensions>=4.0.0 in c:\\users\\wilso\\appdata\\roaming\\python\\python313\\site-packages (from beautifulsoup4) (4.14.1)\n",
            "Requirement already satisfied: numpy>=1.26.0 in c:\\users\\wilso\\appdata\\roaming\\python\\python313\\site-packages (from pandas) (2.3.1)\n",
            "Requirement already satisfied: python-dateutil>=2.8.2 in c:\\users\\wilso\\appdata\\roaming\\python\\python313\\site-packages (from pandas) (2.9.0.post0)\n",
            "Requirement already satisfied: pytz>=2020.1 in c:\\users\\wilso\\appdata\\roaming\\python\\python313\\site-packages (from pandas) (2025.2)\n",
            "Requirement already satisfied: tzdata>=2022.7 in c:\\users\\wilso\\appdata\\roaming\\python\\python313\\site-packages (from pandas) (2025.2)\n",
            "Requirement already satisfied: six>=1.5 in c:\\users\\wilso\\appdata\\roaming\\python\\python313\\site-packages (from python-dateutil>=2.8.2->pandas) (1.17.0)\n",
            "⬇️ Descargando: alza_de_vehiculos_2025_junio.zip\n",
            "✅ Extraído: alza_de_vehiculos_2025_junio.zip\n",
            "⬇️ Descargando: alza_de_vehiculos_2025_junio.zip\n",
            "✅ Extraído: alza_de_vehiculos_2025_junio.zip\n",
            "⬇️ Descargando: alza_de_vehiculos_2025_mayo.zip\n",
            "✅ Extraído: alza_de_vehiculos_2025_mayo.zip\n",
            "⬇️ Descargando: alza_de_vehiculos_2025_mayo.zip\n",
            "✅ Extraído: alza_de_vehiculos_2025_mayo.zip\n",
            "⬇️ Descargando: alza_de_vehiculos_2025_abril.zip\n",
            "✅ Extraído: alza_de_vehiculos_2025_abril.zip\n",
            "⬇️ Descargando: alza_de_vehiculos_2025_abril.zip\n",
            "✅ Extraído: alza_de_vehiculos_2025_abril.zip\n",
            "⬇️ Descargando: alza_de_vehiculos_2025_marzo.zip\n",
            "✅ Extraído: alza_de_vehiculos_2025_marzo.zip\n",
            "⬇️ Descargando: alza_de_vehiculos_2025_marzo.zip\n",
            "✅ Extraído: alza_de_vehiculos_2025_marzo.zip\n",
            "⬇️ Descargando: alza_de_vehiculos_2025_febrero.zip\n",
            "✅ Extraído: alza_de_vehiculos_2025_febrero.zip\n",
            "⬇️ Descargando: alza_de_vehiculos_2025_febrero.zip\n",
            "✅ Extraído: alza_de_vehiculos_2025_febrero.zip\n",
            "⬇️ Descargando: alza_de_vehiculos_2025_enero.zip\n",
            "✅ Extraído: alza_de_vehiculos_2025_enero.zip\n",
            "⬇️ Descargando: alza_de_vehiculos_2025_enero.zip\n",
            "✅ Extraído: alza_de_vehiculos_2025_enero.zip\n",
            "⬇️ Descargando: alza_de_vehiculos_2024_diciembre.zip\n",
            "✅ Extraído: alza_de_vehiculos_2024_diciembre.zip\n",
            "⬇️ Descargando: alza_de_vehiculos_2024_diciembre.zip\n",
            "✅ Extraído: alza_de_vehiculos_2024_diciembre.zip\n",
            "⬇️ Descargando: alza_de_vehiculos_2024_noviembre.zip\n",
            "✅ Extraído: alza_de_vehiculos_2024_noviembre.zip\n",
            "⬇️ Descargando: alza_de_vehiculos_2024_noviembre.zip\n",
            "✅ Extraído: alza_de_vehiculos_2024_noviembre.zip\n",
            "⬇️ Descargando: alza_de_vehiculos_2024_octubre.zip\n",
            "✅ Extraído: alza_de_vehiculos_2024_octubre.zip\n",
            "⬇️ Descargando: alza_de_vehiculos_2024_octubre.zip\n",
            "✅ Extraído: alza_de_vehiculos_2024_octubre.zip\n",
            "⬇️ Descargando: alza_de_vehiculos_2024_septiembre.zip\n",
            "✅ Extraído: alza_de_vehiculos_2024_septiembre.zip\n",
            "⬇️ Descargando: alza_de_vehiculos_2024_septiembre.zip\n",
            "✅ Extraído: alza_de_vehiculos_2024_septiembre.zip\n",
            "⬇️ Descargando: alza_de_vehiculos_2024_agosto.zip\n",
            "✅ Extraído: alza_de_vehiculos_2024_agosto.zip\n",
            "⬇️ Descargando: alza_de_vehiculos_2024_agosto.zip\n",
            "✅ Extraído: alza_de_vehiculos_2024_agosto.zip\n",
            "⬇️ Descargando: alza_de_vehiculos_2024_julio.zip\n",
            "✅ Extraído: alza_de_vehiculos_2024_julio.zip\n",
            "⬇️ Descargando: alza_de_vehiculos_2024_julio.zip\n",
            "✅ Extraído: alza_de_vehiculos_2024_julio.zip\n",
            "⬇️ Descargando: alza_de_vehiculos_2024_junio.zip\n",
            "✅ Extraído: alza_de_vehiculos_2024_junio.zip\n",
            "⬇️ Descargando: alza_de_vehiculos_2024_junio.zip\n",
            "✅ Extraído: alza_de_vehiculos_2024_junio.zip\n",
            "⬇️ Descargando: alza_de_vehiculos_2024_mayo.zip\n",
            "✅ Extraído: alza_de_vehiculos_2024_mayo.zip\n",
            "⬇️ Descargando: alza_de_vehiculos_2024_mayo.zip\n",
            "✅ Extraído: alza_de_vehiculos_2024_mayo.zip\n",
            "⬇️ Descargando: alza_de_vehiculos_2024_abril.zip\n",
            "✅ Extraído: alza_de_vehiculos_2024_abril.zip\n",
            "⬇️ Descargando: alza_de_vehiculos_2024_abril.zip\n",
            "✅ Extraído: alza_de_vehiculos_2024_abril.zip\n",
            "⬇️ Descargando: alza_de_vehiculos_2024_marzo.zip\n",
            "✅ Extraído: alza_de_vehiculos_2024_marzo.zip\n",
            "⬇️ Descargando: alza_de_vehiculos_2024_marzo.zip\n",
            "✅ Extraído: alza_de_vehiculos_2024_marzo.zip\n",
            "⬇️ Descargando: alza_de_vehiculos_2024_febrero.zip\n",
            "✅ Extraído: alza_de_vehiculos_2024_febrero.zip\n",
            "⬇️ Descargando: alza_de_vehiculos_2024_febrero.zip\n",
            "✅ Extraído: alza_de_vehiculos_2024_febrero.zip\n",
            "⬇️ Descargando: alza_de_vehiculos_2024_enero.zip\n",
            "✅ Extraído: alza_de_vehiculos_2024_enero.zip\n",
            "⬇️ Descargando: alza_de_vehiculos_2024_enero.zip\n",
            "✅ Extraído: alza_de_vehiculos_2024_enero.zip\n",
            "📑 Archivos .txt encontrados: ['web_alz_08012025.txt', 'web_alz_08022024.txt', 'web_alz_08022025.txt', 'web_alz_08032024.txt', 'web_alz_08042024.txt', 'web_alz_08042025.txt', 'web_alz_08052024.txt', 'web_alz_08052025.txt', 'web_alz_08062024.txt', 'web_alz_08062025.txt', 'web_alz_08072024.txt', 'web_alz_08072025.txt', 'web_alz_08082024.txt', 'web_alz_08092024.txt', 'web_alz_08102024.txt', 'web_alz_08112024.txt', 'web_alz_08122024.txt', 'web_alz_10032025.txt']\n",
            "📁 Archivo final generado: importaciones_2024_2025.csv\n"
          ]
        }
      ],
      "source": [
        "# PASO 1: Instalar las bibliotecas necesarias\n",
        "!pip install requests beautifulsoup4 pandas lxml\n",
        "\n",
        "# PASO 2: Importar bibliotecas\n",
        "import os\n",
        "import requests\n",
        "import zipfile\n",
        "import pandas as pd\n",
        "from bs4 import BeautifulSoup\n",
        "from io import BytesIO\n",
        "import unicodedata\n",
        "\n",
        "# Crear carpeta para guardar los datos\n",
        "os.makedirs(\"Datos\", exist_ok=True)\n",
        "\n",
        "# Página del SAT con los archivos de importaciones\n",
        "url_base = \"https://portal.sat.gob.gt/portal/alza-e-importacion-vehiculos/\"\n",
        "\n",
        "# Descargar el contenido HTML de la página\n",
        "response = requests.get(url_base)\n",
        "soup = BeautifulSoup(response.content, \"lxml\")\n",
        "\n",
        "# Buscar todos los enlaces a archivos ZIP\n",
        "zip_links = []\n",
        "for link in soup.find_all(\"a\", href=True):\n",
        "    href = link[\"href\"]\n",
        "    if href.endswith(\".zip\"):\n",
        "        if any(anio in href for anio in [\"2024\", \"2025\"]):\n",
        "            if \"2025\" in href:\n",
        "                if not any(mes in href.lower() for mes in [\"01\", \"02\", \"03\", \"04\", \"05\", \"enero\", \"febrero\", \"marzo\", \"abril\", \"mayo\"]):\n",
        "                    continue  # Solo hasta mayo 2025\n",
        "            zip_links.append(href)\n",
        "\n",
        "# PASO 3: Descargar y descomprimir archivos ZIP\n",
        "for zip_link in zip_links:\n",
        "    zip_url = zip_link if zip_link.startswith(\"http\") else \"https://portal.sat.gob.gt\" + zip_link\n",
        "    zip_name = zip_url.split(\"/\")[-1]\n",
        "    print(f\"⬇️ Descargando: {zip_name}\")\n",
        "    r = requests.get(zip_url)\n",
        "    if r.status_code == 200:\n",
        "        with zipfile.ZipFile(BytesIO(r.content)) as z:\n",
        "            z.extractall(\"Datos\")\n",
        "            print(f\"✅ Extraído: {zip_name}\")\n",
        "    else:\n",
        "        print(f\"❌ Error al descargar: {zip_name}\")\n",
        "\n",
        "# PASO 4: Leer archivos .txt descomprimidos y unir\n",
        "archivos_txt = [f for f in os.listdir(\"Datos\") if f.endswith(\".txt\")]\n",
        "dfs = []\n",
        "print(\"📑 Archivos .txt encontrados:\", archivos_txt)\n",
        "\n",
        "\n",
        "for archivo in archivos_txt:\n",
        "    path = os.path.join(\"Datos\", archivo)\n",
        "    try:\n",
        "        df = pd.read_csv(path, sep=\"|\", encoding=\"latin1\")\n",
        "        df[\"archivo_origen\"] = archivo\n",
        "        dfs.append(df)\n",
        "    except Exception as e:\n",
        "        print(f\"❌ Error leyendo {archivo}: {e}\")\n",
        "\n",
        "# PASO 5: Unir y guardar en CSV\n",
        "if dfs:\n",
        "    df_final = pd.concat(dfs, ignore_index=True)\n",
        "    df_final.to_csv(\"importaciones_2024_2025.csv\", index=False, encoding=\"utf-8-sig\")\n",
        "    print(\"📁 Archivo final generado: importaciones_2024_2025.csv\")\n",
        "else:\n",
        "    print(\"⚠️ No se encontraron archivos .txt válidos.\")\n",
        "\n"
      ]
    },
    {
      "cell_type": "markdown",
      "metadata": {
        "id": "f1P9CyiD4lcf"
      },
      "source": [
        "## 1. Descripción del dataset (filas, columnas, nombres)\n",
        "\n"
      ]
    },
    {
      "cell_type": "code",
      "execution_count": 12,
      "metadata": {
        "colab": {
          "base_uri": "https://localhost:8080/"
        },
        "id": "gvF9phedgOLS",
        "outputId": "87dd2688-3971-4498-a6b8-b4e8317d1e1f"
      },
      "outputs": [
        {
          "name": "stdout",
          "output_type": "stream",
          "text": [
            "➡️ Filas: 968871\n",
            "➡️ Variables: 16\n",
            "\n",
            "📋 Nombres de columnas:\n",
            "['Pais de Proveniencia', 'Aduana de Ingreso', ' Fecha de la Poliza', 'Partida Arancelaria', 'Modelo del Vehiculo', 'Marca', 'Linea', 'Centimetros Cubicos', 'Asientos', 'Puertas', 'Tonelaje', 'Distintivo', 'Tipo de Vehiculo', 'Tipo de Importador', 'Tipo Combustible', 'archivo_origen']\n"
          ]
        }
      ],
      "source": [
        "import pandas as pd\n",
        "\n",
        "# Cargar el archivo\n",
        "df = pd.read_csv(\"importaciones_2024_2025.csv\", encoding=\"utf-8-sig\")\n",
        "\n",
        "# Mostrar dimensiones\n",
        "print(f\"➡️ Filas: {df.shape[0]}\")\n",
        "print(f\"➡️ Variables: {df.shape[1]}\\n\")\n",
        "\n",
        "# Mostrar nombres de columnas\n",
        "print(\"📋 Nombres de columnas:\")\n",
        "print(df.columns.tolist())\n"
      ]
    },
    {
      "cell_type": "markdown",
      "metadata": {
        "id": "RboV5m8Q4uqC"
      },
      "source": [
        "## 2. Identificar columnas que necesitan limpieza"
      ]
    },
    {
      "cell_type": "code",
      "execution_count": 13,
      "metadata": {
        "colab": {
          "base_uri": "https://localhost:8080/"
        },
        "id": "1G3YctzO43eE",
        "outputId": "0aa37959-9ff5-4fd9-e763-1238426d46ed"
      },
      "outputs": [
        {
          "name": "stdout",
          "output_type": "stream",
          "text": [
            "\n",
            "🔍 Columnas con valores faltantes:\n",
            "Pais de Proveniencia        0\n",
            "Aduana de Ingreso           0\n",
            " Fecha de la Poliza         0\n",
            "Partida Arancelaria         0\n",
            "Modelo del Vehiculo         0\n",
            "Marca                       0\n",
            "Linea                       4\n",
            "Centimetros Cubicos      1152\n",
            "Asientos                 1040\n",
            "Puertas                  1041\n",
            "Tonelaje                    2\n",
            "Distintivo              14415\n",
            "Tipo de Vehiculo            0\n",
            "Tipo de Importador          0\n",
            "Tipo Combustible            0\n",
            "archivo_origen              0\n",
            "dtype: int64\n",
            "\n",
            "📌 Tipos de datos detectados:\n",
            "Pais de Proveniencia     object\n",
            "Aduana de Ingreso        object\n",
            " Fecha de la Poliza      object\n",
            "Partida Arancelaria       int64\n",
            "Modelo del Vehiculo       int64\n",
            "Marca                    object\n",
            "Linea                    object\n",
            "Centimetros Cubicos     float64\n",
            "Asientos                float64\n",
            "Puertas                 float64\n",
            "Tonelaje                float64\n",
            "Distintivo               object\n",
            "Tipo de Vehiculo         object\n",
            "Tipo de Importador       object\n",
            "Tipo Combustible         object\n",
            "archivo_origen           object\n",
            "dtype: object\n",
            "\n",
            "✏️ Columnas de texto candidatas para limpieza:\n",
            "['Pais de Proveniencia', 'Aduana de Ingreso', ' Fecha de la Poliza', 'Marca', 'Linea', 'Distintivo', 'Tipo de Vehiculo', 'Tipo de Importador', 'Tipo Combustible', 'archivo_origen']\n"
          ]
        }
      ],
      "source": [
        "# Inspección general de las primeras filas\n",
        "df.head()\n",
        "\n",
        "# Detectar columnas con valores nulos\n",
        "print(\"\\n🔍 Columnas con valores faltantes:\")\n",
        "print(df.isnull().sum())\n",
        "\n",
        "# Analizar tipos de datos para detectar errores\n",
        "print(\"\\n📌 Tipos de datos detectados:\")\n",
        "print(df.dtypes)\n",
        "\n",
        "# Columnas de texto que suelen requerir limpieza\n",
        "columnas_texto = df.select_dtypes(include='object').columns.tolist()\n",
        "print(\"\\n✏️ Columnas de texto candidatas para limpieza:\")\n",
        "print(columnas_texto)\n",
        "\n",
        "# Renombrar columnas a snake_case y sin tildes\n",
        "df.columns = (\n",
        "    df.columns\n",
        "      .str.strip()\n",
        "      .map(lambda x: unicodedata.normalize('NFKD', x))\n",
        "      .map(lambda x: ''.join(c for c in x if unicodedata.category(c) != 'Mn'))\n",
        "      .str.lower()\n",
        "      .str.replace(r\"\\s+\", \"_\", regex=True)\n",
        "      .str.replace(r\"[^\\w_]\", \"\", regex=True)\n",
        ")\n",
        "\n",
        "# Eliminar la columna que no limpias: 'archivo_origen'\n",
        "if 'archivo_origen' in df.columns:\n",
        "    df.drop('archivo_origen', axis=1, inplace=True)"
      ]
    },
    {
      "cell_type": "code",
      "execution_count": 14,
      "metadata": {
        "colab": {
          "base_uri": "https://localhost:8080/",
          "height": 972
        },
        "id": "OcnGPOqngTCs",
        "outputId": "89aa5910-4cf2-4452-e613-c223197dad65"
      },
      "outputs": [
        {
          "name": "stdout",
          "output_type": "stream",
          "text": [
            "🧾 Primeros registros:\n"
          ]
        },
        {
          "data": {
            "text/html": [
              "<div>\n",
              "<style scoped>\n",
              "    .dataframe tbody tr th:only-of-type {\n",
              "        vertical-align: middle;\n",
              "    }\n",
              "\n",
              "    .dataframe tbody tr th {\n",
              "        vertical-align: top;\n",
              "    }\n",
              "\n",
              "    .dataframe thead th {\n",
              "        text-align: right;\n",
              "    }\n",
              "</style>\n",
              "<table border=\"1\" class=\"dataframe\">\n",
              "  <thead>\n",
              "    <tr style=\"text-align: right;\">\n",
              "      <th></th>\n",
              "      <th>pais_de_proveniencia</th>\n",
              "      <th>aduana_de_ingreso</th>\n",
              "      <th>fecha_de_la_poliza</th>\n",
              "      <th>partida_arancelaria</th>\n",
              "      <th>modelo_del_vehiculo</th>\n",
              "      <th>marca</th>\n",
              "      <th>linea</th>\n",
              "      <th>centimetros_cubicos</th>\n",
              "      <th>asientos</th>\n",
              "      <th>puertas</th>\n",
              "      <th>tonelaje</th>\n",
              "      <th>distintivo</th>\n",
              "      <th>tipo_de_vehiculo</th>\n",
              "      <th>tipo_de_importador</th>\n",
              "      <th>tipo_combustible</th>\n",
              "    </tr>\n",
              "  </thead>\n",
              "  <tbody>\n",
              "    <tr>\n",
              "      <th>0</th>\n",
              "      <td>INDIA</td>\n",
              "      <td>PUERTO QUETZAL</td>\n",
              "      <td>06/11/2024</td>\n",
              "      <td>8711209000</td>\n",
              "      <td>2025</td>\n",
              "      <td>BAJAJ</td>\n",
              "      <td>PULSAR 125</td>\n",
              "      <td>124.0</td>\n",
              "      <td>2.0</td>\n",
              "      <td>0.0</td>\n",
              "      <td>0.0</td>\n",
              "      <td>LIVIANO</td>\n",
              "      <td>MOTO</td>\n",
              "      <td>OCASIONAL</td>\n",
              "      <td>Gasolina</td>\n",
              "    </tr>\n",
              "    <tr>\n",
              "      <th>1</th>\n",
              "      <td>INDIA</td>\n",
              "      <td>PUERTO QUETZAL</td>\n",
              "      <td>06/11/2024</td>\n",
              "      <td>8711209000</td>\n",
              "      <td>2025</td>\n",
              "      <td>BAJAJ</td>\n",
              "      <td>PULSAR 125</td>\n",
              "      <td>124.0</td>\n",
              "      <td>2.0</td>\n",
              "      <td>0.0</td>\n",
              "      <td>0.0</td>\n",
              "      <td>LIVIANO</td>\n",
              "      <td>MOTO</td>\n",
              "      <td>OCASIONAL</td>\n",
              "      <td>Gasolina</td>\n",
              "    </tr>\n",
              "    <tr>\n",
              "      <th>2</th>\n",
              "      <td>INDIA</td>\n",
              "      <td>PUERTO QUETZAL</td>\n",
              "      <td>06/11/2024</td>\n",
              "      <td>8711209000</td>\n",
              "      <td>2025</td>\n",
              "      <td>BAJAJ</td>\n",
              "      <td>PULSAR 125</td>\n",
              "      <td>124.0</td>\n",
              "      <td>2.0</td>\n",
              "      <td>0.0</td>\n",
              "      <td>0.0</td>\n",
              "      <td>LIVIANO</td>\n",
              "      <td>MOTO</td>\n",
              "      <td>OCASIONAL</td>\n",
              "      <td>Gasolina</td>\n",
              "    </tr>\n",
              "    <tr>\n",
              "      <th>3</th>\n",
              "      <td>INDIA</td>\n",
              "      <td>PUERTO QUETZAL</td>\n",
              "      <td>06/11/2024</td>\n",
              "      <td>8711209000</td>\n",
              "      <td>2025</td>\n",
              "      <td>BAJAJ</td>\n",
              "      <td>PULSAR 125</td>\n",
              "      <td>124.0</td>\n",
              "      <td>2.0</td>\n",
              "      <td>0.0</td>\n",
              "      <td>0.0</td>\n",
              "      <td>LIVIANO</td>\n",
              "      <td>MOTO</td>\n",
              "      <td>OCASIONAL</td>\n",
              "      <td>Gasolina</td>\n",
              "    </tr>\n",
              "    <tr>\n",
              "      <th>4</th>\n",
              "      <td>INDIA</td>\n",
              "      <td>PUERTO QUETZAL</td>\n",
              "      <td>06/11/2024</td>\n",
              "      <td>8711209000</td>\n",
              "      <td>2025</td>\n",
              "      <td>BAJAJ</td>\n",
              "      <td>PULSAR 125</td>\n",
              "      <td>124.0</td>\n",
              "      <td>2.0</td>\n",
              "      <td>0.0</td>\n",
              "      <td>0.0</td>\n",
              "      <td>LIVIANO</td>\n",
              "      <td>MOTO</td>\n",
              "      <td>OCASIONAL</td>\n",
              "      <td>Gasolina</td>\n",
              "    </tr>\n",
              "  </tbody>\n",
              "</table>\n",
              "</div>"
            ],
            "text/plain": [
              "  pais_de_proveniencia aduana_de_ingreso fecha_de_la_poliza  \\\n",
              "0                INDIA    PUERTO QUETZAL         06/11/2024   \n",
              "1                INDIA    PUERTO QUETZAL         06/11/2024   \n",
              "2                INDIA    PUERTO QUETZAL         06/11/2024   \n",
              "3                INDIA    PUERTO QUETZAL         06/11/2024   \n",
              "4                INDIA    PUERTO QUETZAL         06/11/2024   \n",
              "\n",
              "   partida_arancelaria  modelo_del_vehiculo  marca       linea  \\\n",
              "0           8711209000                 2025  BAJAJ  PULSAR 125   \n",
              "1           8711209000                 2025  BAJAJ  PULSAR 125   \n",
              "2           8711209000                 2025  BAJAJ  PULSAR 125   \n",
              "3           8711209000                 2025  BAJAJ  PULSAR 125   \n",
              "4           8711209000                 2025  BAJAJ  PULSAR 125   \n",
              "\n",
              "   centimetros_cubicos  asientos  puertas  tonelaje distintivo  \\\n",
              "0                124.0       2.0      0.0       0.0    LIVIANO   \n",
              "1                124.0       2.0      0.0       0.0    LIVIANO   \n",
              "2                124.0       2.0      0.0       0.0    LIVIANO   \n",
              "3                124.0       2.0      0.0       0.0    LIVIANO   \n",
              "4                124.0       2.0      0.0       0.0    LIVIANO   \n",
              "\n",
              "  tipo_de_vehiculo tipo_de_importador tipo_combustible  \n",
              "0             MOTO          OCASIONAL         Gasolina  \n",
              "1             MOTO          OCASIONAL         Gasolina  \n",
              "2             MOTO          OCASIONAL         Gasolina  \n",
              "3             MOTO          OCASIONAL         Gasolina  \n",
              "4             MOTO          OCASIONAL         Gasolina  "
            ]
          },
          "metadata": {},
          "output_type": "display_data"
        },
        {
          "name": "stdout",
          "output_type": "stream",
          "text": [
            "\n",
            "🔍 Valores nulos por variable:\n",
            "pais_de_proveniencia        0\n",
            "aduana_de_ingreso           0\n",
            "fecha_de_la_poliza          0\n",
            "partida_arancelaria         0\n",
            "modelo_del_vehiculo         0\n",
            "marca                       0\n",
            "linea                       4\n",
            "centimetros_cubicos      1152\n",
            "asientos                 1040\n",
            "puertas                  1041\n",
            "tonelaje                    2\n",
            "distintivo              14415\n",
            "tipo_de_vehiculo            0\n",
            "tipo_de_importador          0\n",
            "tipo_combustible            0\n",
            "dtype: int64\n",
            "\n",
            "🔎 Valores únicos en 'pais_de_proveniencia':\n",
            "['INDIA' 'CHINA' 'JAPON' 'ESTADOS UNIDOS' 'MEXICO' 'CANADA' 'INDONESIA'\n",
            " 'ARGENTINA' 'BRASIL' 'ALEMANIA REP. FED.']\n",
            "\n",
            "🔎 Valores únicos en 'aduana_de_ingreso':\n",
            "['PUERTO QUETZAL' 'EL CARMEN' 'G8' 'SANTO TOMAS DE CASTILLA' 'G1'\n",
            " 'CENTRAL DE GUATEMALA' 'ADMINISTRADORA LOGISTICA DE PACIFICO,S.A'\n",
            " 'TECUN UMAN' 'PUERTO BARRIOS' 'ADUANA DE VEHICULOS']\n",
            "\n",
            "🔎 Valores únicos en 'marca':\n",
            "['BAJAJ' 'YAMAHA' 'TOYOTA' 'TMR' 'MAZDA' 'SUBARU' 'VOLKSWAGEN' 'BMW' 'JAC'\n",
            " 'PORSCHE']\n",
            "\n",
            "🔎 Valores únicos en 'linea':\n",
            "['PULSAR 125' 'XC115B' 'XTZ150' 'YD110D-4' 'FZN250-A' 'FZN150D-A' 'LCG125'\n",
            " 'XC115BD' 'XTZ125E' 'DLX 4WD']\n",
            "\n",
            "🔎 Valores únicos en 'modelo_del_vehiculo':\n",
            "[2025 2024 1989 2023 2020 2010 2015 2022 2012 2014]\n",
            "\n",
            "🔎 Valores únicos en 'distintivo':\n",
            "['LIVIANO' 'PESADO']\n"
          ]
        }
      ],
      "source": [
        "# Limpiar nombres de columnas (quitar espacios, minúsculas, etc.)\n",
        "df.columns = df.columns.str.strip().str.lower().str.replace(\" \", \"_\")\n",
        "\n",
        "# Ver vista previa\n",
        "print(\"🧾 Primeros registros:\")\n",
        "display(df.head())\n",
        "\n",
        "# Verificar valores nulos\n",
        "print(\"\\n🔍 Valores nulos por variable:\")\n",
        "print(df.isnull().sum())\n",
        "\n",
        "# Revisar valores únicos en columnas clave de texto\n",
        "columnas_relevantes = ['pais_de_proveniencia', 'aduana_de_ingreso', 'marca', 'linea', 'modelo_del_vehiculo', 'distintivo']\n",
        "\n",
        "for col in columnas_relevantes:\n",
        "    print(f\"\\n🔎 Valores únicos en '{col}':\")\n",
        "    print(df[col].dropna().unique()[:10])  # primeros 10 valores\n"
      ]
    },
    {
      "cell_type": "markdown",
      "metadata": {
        "id": "VQm263tE5M06"
      },
      "source": [
        "## 4. Limpieza básica de nombres de columnas"
      ]
    },
    {
      "cell_type": "code",
      "execution_count": 15,
      "metadata": {
        "colab": {
          "base_uri": "https://localhost:8080/"
        },
        "id": "1xBkJqrq5NCM",
        "outputId": "24a2530a-360a-4ef9-cc2e-fc2dc9a977f2"
      },
      "outputs": [
        {
          "name": "stdout",
          "output_type": "stream",
          "text": [
            "\n",
            "✅ Nombres de columnas estandarizados:\n",
            "['pais_de_proveniencia', 'aduana_de_ingreso', 'fecha_de_la_poliza', 'partida_arancelaria', 'modelo_del_vehiculo', 'marca', 'linea', 'centimetros_cubicos', 'asientos', 'puertas', 'tonelaje', 'distintivo', 'tipo_de_vehiculo', 'tipo_de_importador', 'tipo_combustible']\n"
          ]
        }
      ],
      "source": [
        "# Estandarizar nombres de columnas para facilitar el análisis\n",
        "df.columns = df.columns.str.strip().str.lower().str.replace(\" \", \"_\")\n",
        "print(\"\\n✅ Nombres de columnas estandarizados:\")\n",
        "print(df.columns.tolist())\n"
      ]
    },
    {
      "cell_type": "markdown",
      "metadata": {
        "id": "xOQ04hec5mBR"
      },
      "source": [
        "##  5. Limpieza de variables de texto"
      ]
    },
    {
      "cell_type": "code",
      "execution_count": null,
      "metadata": {
        "colab": {
          "base_uri": "https://localhost:8080/"
        },
        "id": "KuA-6l625R9B",
        "outputId": "d99baa41-3e6d-42c5-e90a-d95a818c52be"
      },
      "outputs": [
        {
          "name": "stdout",
          "output_type": "stream",
          "text": [
            "\n",
            "🧹 Columnas normalizadas:\n",
            "['pais_de_proveniencia', 'aduana_de_ingreso', 'marca', 'linea', 'distintivo', 'tipo_de_vehiculo', 'tipo_importador', 'tipo_combustible']\n"
          ]
        }
      ],
      "source": [
        "# Convertir columnas de texto a mayúsculas y quitar espacios extra\n",
        "columnas_a_normalizar = ['pais_de_proveniencia', 'aduana_de_ingreso', 'marca', 'linea',\n",
        "                         'distintivo', 'tipo_de_vehiculo', 'tipo_importador', 'tipo_combustible']\n",
        "\n",
        "for col in columnas_a_normalizar:\n",
        "    if col in df.columns:\n",
        "        df[col] = df[col].astype(str).str.upper().str.strip()\n",
        "\n",
        "print(\"\\n🧹 Columnas normalizadas:\")\n",
        "print(columnas_a_normalizar)\n"
      ]
    },
    {
      "cell_type": "code",
      "execution_count": 23,
      "metadata": {
        "colab": {
          "base_uri": "https://localhost:8080/"
        },
        "id": "mgHth4WGgYV8",
        "outputId": "876c3bc0-579d-4458-da50-9593b5483940"
      },
      "outputs": [
        {
          "name": "stdout",
          "output_type": "stream",
          "text": [
            "✅ Limpieza preliminar realizada.\n"
          ]
        }
      ],
      "source": [
        "import pandas as pd\n",
        "import numpy as np\n",
        "\n",
        "# ✳️ Normalización de texto en columnas clave\n",
        "df['pais_de_proveniencia'] = df['pais_de_proveniencia'].astype(str).str.strip().str.upper()\n",
        "df['aduana_de_ingreso'] = df['aduana_de_ingreso'].astype(str).str.strip().str.upper()\n",
        "df['marca'] = df['marca'].astype(str).str.strip().str.upper()\n",
        "df['linea'] = df['linea'].astype(str).str.strip()\n",
        "df['modelo_del_vehiculo'] = df['modelo_del_vehiculo'].astype(str).str.strip()\n",
        "df['distintivo'] = df['distintivo'].astype(str).str.strip().str.upper()\n",
        "df['tipo_combustible'] = df['tipo_combustible'].astype(str).str.strip().str.capitalize()\n",
        "\n",
        "# ✳️ Convertir la fecha de la póliza a formato datetime\n",
        "df['fecha_poliza'] = pd.to_datetime(df['fecha_de_la_poliza'], format=\"%d/%m/%Y\", errors='coerce')\n",
        "\n",
        "# ✳️ Extraer año y mes\n",
        "df['anio'] = df['fecha_poliza'].dt.year\n",
        "df['mes'] = df['fecha_poliza'].dt.month\n",
        "\n",
        "# ✳️ Eliminar duplicados (opcional si hay repetidos exactos)\n",
        "df.drop_duplicates(inplace=True)\n",
        "\n",
        "print(\"✅ Limpieza preliminar realizada.\")\n",
        "\n",
        "variables_texto = [\n",
        "    'pais_de_proveniencia', 'aduana_de_ingreso',\n",
        "    'modelo_del_vehiculo', 'marca', 'linea',\n",
        "    'distintivo', 'tipo_de_vehiculo',\n",
        "    'tipo_de_importador', 'tipo_combustible'\n",
        "]\n",
        "variables_fecha = ['fecha_de_la_poliza']\n",
        "variables_num   = [\n",
        "    'partida_arancelaria', 'centimetros_cubicos',\n",
        "    'asientos', 'puertas', 'tonelaje'\n",
        "]\n",
        "\n",
        "def clean_text(series: pd.Series, to_upper=True, strip_spaces=True) -> pd.Series:\n",
        "    s = series.astype(str)\n",
        "    if strip_spaces:\n",
        "        s = s.str.strip()\n",
        "    if to_upper:\n",
        "        s = s.str.upper()\n",
        "    return s.replace({'': np.nan})\n",
        "\n",
        "def clean_numeric(series: pd.Series) -> pd.Series:\n",
        "    s = series.astype(str)\n",
        "    s = s.str.replace(r'\\.', '', regex=True)\n",
        "    s = s.str.replace(',', '.', regex=False)\n",
        "    return pd.to_numeric(s, errors='coerce')"
      ]
    },
    {
      "cell_type": "markdown",
      "metadata": {},
      "source": [
        "# 6. Corrección manual de errores ortográficos\n"
      ]
    },
    {
      "cell_type": "code",
      "execution_count": 24,
      "metadata": {},
      "outputs": [
        {
          "name": "stdout",
          "output_type": "stream",
          "text": [
            "Valores únicos en 'pais_de_proveniencia_clean' (muestra): ['ALEMANIA REP. FED.', 'ARABIA SAUDITA', 'ARGENTINA', 'AUSTRALIA', 'AUSTRIA', 'BELGICA', 'BELICE', 'BOUVET ISLAND', 'BRASIL', 'BRITISH INDIAN OCEAN TERRITORY', 'CANADA', 'CHECOSLOVAQUIA', 'CHILE', 'CHINA', 'COLOMBIA', 'COREA DEL SUR', 'COSTA RICA', 'ECUADOR', 'EMIRATOS ARABES UNIDOS', 'ESPANA']\n",
            "... total unique: 64\n",
            "Valores únicos en 'aduana_de_ingreso_clean' (muestra): ['ADMINISTRADORA LOGISTICA DE PACIFICO,S.A', 'ADUANA DE VEHICULOS', 'ADUANA NO REQUERIDA', 'CENTRAL DE GUATEMALA', 'CORRAL BLANCO,SOCIEDAD ANONIMA', 'DIRECCION GENERAL DE ADUANAS', 'EL CARMEN', 'EL CEIBO', 'EXPRESS AEREO', 'G1', 'G3', 'G4', 'G5', 'G6', 'G7', 'G8', 'H6', 'H7', 'H8', 'LA ERMITA']\n",
            "... total unique: 29\n",
            "Valores únicos en 'modelo_del_vehiculo_clean' (muestra): ['1900', '1928', '1930', '1935', '1936', '1939', '1942', '1944', '1947', '1948', '1949', '1950', '1951', '1952', '1953', '1954', '1956', '1957', '1959', '1960']\n",
            "... total unique: 86\n",
            "Valores únicos en 'marca_clean' (muestra): ['AABS MOTOS', 'ACURA', 'ADAM', 'ADLY', 'AEOLUS', 'AIRSTREAM', 'AJAX', 'AKT', 'ALABAMA', 'ALFA-ROMEO', 'ALL AMERICAN', 'ALLIED', 'ALLOY', 'ALPINE ARMORING', 'ALTAMIRANO', 'AM GENERAL', 'AMC', 'AMERICAN', 'AMERICAN IRONHORSE', 'AMERICAN MOTORS']\n",
            "... total unique: 759\n",
            "Valores únicos en 'linea_clean' (muestra): ['-', '-FIT-', '-VITZ-', '00', '00500 RCD IRIZAR', '00500 RSD IRIZAR', '01 EREV', '011A-1EAM', '011A-1UAW', '0178-S', '01AA-1UAY', '01AC-1UAY', '01DJ-1UAY', '01JA', '01JA-1RAY', '01JA-1UAL', '01JA-1UAY', '01JR-3UAY', '024B-1HAW', '02DA-BUAL']\n",
            "... total unique: 24909\n",
            "Valores únicos en 'distintivo_clean' (muestra): ['LIVIANO', 'NAN', 'PESADO']\n",
            "... total unique: 3\n",
            "Valores únicos en 'tipo_de_vehiculo_clean' (muestra): ['AMBULANCIA', 'AUTOBUS', 'AUTOMOVIL', 'BUS', 'BUS ESCOLAR', 'CABEZAL', 'CAMION', 'CAMION BOMBEROS', 'CAMION CHASIS', 'CAMION CISTERNA', 'CAMION FRIGORIFICO', 'CAMION FURGON', 'CAMION GRUA', 'CAMION MEZCLADOR', 'CAMION PERFORADO', 'CAMION PERFORADOR', 'CAMION VOLTEO', 'CAMIONETA', 'CAMIONETA AGRICOLA', 'CAMIONETA SPORT']\n",
            "... total unique: 58\n",
            "Valores únicos en 'tipo_de_importador_clean' (muestra): ['DISTRIBUIDOR', 'OCASIONAL']\n",
            "... total unique: 2\n",
            "Valores únicos en 'tipo_combustible_clean' (muestra): ['DIESEL', 'ELÉCTRICO', 'GAS PROPANO', 'GASOLINA', 'HIBRIDO', 'OTRO']\n",
            "... total unique: 6\n",
            "<class 'pandas.core.frame.DataFrame'>\n",
            "Index: 270829 entries, 0 to 968870\n",
            "Data columns (total 15 columns):\n",
            " #   Column                      Non-Null Count   Dtype         \n",
            "---  ------                      --------------   -----         \n",
            " 0   pais_de_proveniencia_clean  270829 non-null  object        \n",
            " 1   aduana_de_ingreso_clean     270829 non-null  object        \n",
            " 2   modelo_del_vehiculo_clean   270829 non-null  object        \n",
            " 3   marca_clean                 270829 non-null  object        \n",
            " 4   linea_clean                 270829 non-null  object        \n",
            " 5   distintivo_clean            270829 non-null  object        \n",
            " 6   tipo_de_vehiculo_clean      270829 non-null  object        \n",
            " 7   tipo_de_importador_clean    270829 non-null  object        \n",
            " 8   tipo_combustible_clean      270829 non-null  object        \n",
            " 9   fecha_de_la_poliza_clean    270829 non-null  datetime64[ns]\n",
            " 10  partida_arancelaria_clean   270829 non-null  int64         \n",
            " 11  centimetros_cubicos_clean   269924 non-null  float64       \n",
            " 12  asientos_clean              270020 non-null  float64       \n",
            " 13  puertas_clean               270019 non-null  float64       \n",
            " 14  tonelaje_clean              270827 non-null  float64       \n",
            "dtypes: datetime64[ns](1), float64(4), int64(1), object(9)\n",
            "memory usage: 33.1+ MB\n",
            "None\n",
            "   pais_de_proveniencia_clean aduana_de_ingreso_clean  \\\n",
            "0                       INDIA          PUERTO QUETZAL   \n",
            "8                       INDIA          PUERTO QUETZAL   \n",
            "19                      INDIA          PUERTO QUETZAL   \n",
            "21                      CHINA          PUERTO QUETZAL   \n",
            "24                      INDIA          PUERTO QUETZAL   \n",
            "26                      INDIA          PUERTO QUETZAL   \n",
            "28                      INDIA          PUERTO QUETZAL   \n",
            "30                      INDIA          PUERTO QUETZAL   \n",
            "32                      INDIA          PUERTO QUETZAL   \n",
            "34                      INDIA          PUERTO QUETZAL   \n",
            "\n",
            "   modelo_del_vehiculo_clean marca_clean linea_clean distintivo_clean  \\\n",
            "0                       2025       BAJAJ  PULSAR 125          LIVIANO   \n",
            "8                       2025       BAJAJ  PULSAR 125          LIVIANO   \n",
            "19                      2024      YAMAHA      XC115B          LIVIANO   \n",
            "21                      2025      YAMAHA      XTZ150          LIVIANO   \n",
            "24                      2024      YAMAHA    YD110D-4          LIVIANO   \n",
            "26                      2025      YAMAHA    FZN250-A          LIVIANO   \n",
            "28                      2024      YAMAHA   FZN150D-A          LIVIANO   \n",
            "30                      2024      YAMAHA      LCG125          LIVIANO   \n",
            "32                      2024      YAMAHA      LCG125          LIVIANO   \n",
            "34                      2024      YAMAHA     XC115BD          LIVIANO   \n",
            "\n",
            "   tipo_de_vehiculo_clean tipo_de_importador_clean tipo_combustible_clean  \n",
            "0                    MOTO                OCASIONAL               GASOLINA  \n",
            "8                    MOTO                OCASIONAL               GASOLINA  \n",
            "19                   MOTO             DISTRIBUIDOR               GASOLINA  \n",
            "21                   MOTO             DISTRIBUIDOR               GASOLINA  \n",
            "24                   MOTO             DISTRIBUIDOR               GASOLINA  \n",
            "26                   MOTO             DISTRIBUIDOR               GASOLINA  \n",
            "28                   MOTO             DISTRIBUIDOR               GASOLINA  \n",
            "30                   MOTO             DISTRIBUIDOR               GASOLINA  \n",
            "32                   MOTO             DISTRIBUIDOR               GASOLINA  \n",
            "34                   MOTO             DISTRIBUIDOR               GASOLINA  \n"
          ]
        }
      ],
      "source": [
        "\n",
        "for var in variables_texto:\n",
        "    clean_col = f\"{var}_clean\"\n",
        "    df[clean_col] = clean_text(df[var])\n",
        "    unique_vals = df[clean_col].dropna().unique()\n",
        "    print(f\"Valores únicos en '{clean_col}' (muestra):\", sorted(unique_vals)[:20])\n",
        "    print(\"... total unique:\", len(unique_vals))\n",
        "\n",
        "for var in variables_fecha:\n",
        "    df[f\"{var}_clean\"] = pd.to_datetime(df[var], dayfirst=True, errors='coerce')\n",
        "\n",
        "for var in variables_num:\n",
        "    df[f\"{var}_clean\"] = clean_numeric(df[var])\n",
        "\n",
        "df_clean_cols = [f\"{v}_clean\" for v in variables_texto + variables_fecha + variables_num]\n",
        "print(df[df_clean_cols].info())\n",
        "print(df[[f\"{v}_clean\" for v in variables_texto]].head(10))"
      ]
    },
    {
      "cell_type": "markdown",
      "metadata": {
        "id": "g4UauBVy4ZFe"
      },
      "source": [
        "## 7. Guardar dataset limpio"
      ]
    },
    {
      "cell_type": "code",
      "execution_count": null,
      "metadata": {
        "colab": {
          "base_uri": "https://localhost:8080/"
        },
        "id": "Wz-GYDXU4YHD",
        "outputId": "8dab39ca-2925-46ce-c00d-7f361d8525a6"
      },
      "outputs": [
        {
          "name": "stdout",
          "output_type": "stream",
          "text": [
            "\n",
            "💾 Dataset limpio guardado como 'importaciones_limpio.csv'\n"
          ]
        }
      ],
      "source": [
        "# Guardar archivo limpio\n",
        "df.to_csv(\"importaciones_limpio.csv\", index=False, encoding=\"utf-8-sig\")\n",
        "print(\"\\n💾 Dataset limpio guardado como 'importaciones_limpio.csv'\")\n"
      ]
    },
    {
      "cell_type": "markdown",
      "metadata": {
        "id": "cc578f11"
      },
      "source": [
        "Aquí tienes una descripción del conjunto de datos y una estrategia de limpieza para las variables que podrían necesitar más atención:\n",
        "\n",
        "**Descripción del Conjunto de Datos:**\n",
        "\n",
        "*   **Filas (datos crudos):** Este número representa la cantidad total de registros de importación de vehículos en el período cubierto por los archivos descargados.\n",
        "*   **Columnas (variables):** Este número indica la cantidad de atributos o características registradas para cada importación de vehículo.\n",
        "\n",
        "**Variables que necesitarán más operaciones de limpieza:**\n",
        "\n",
        "Basándonos en la experiencia común con este tipo de datos y los nombres de las columnas, las siguientes variables podrían requerir operaciones de limpieza:\n",
        "\n",
        "1.  **`aduana_de_ingreso`**: A menudo contiene variaciones en la escritura del mismo nombre de aduana.\n",
        "2.  **`marca`**: Es común encontrar diferentes formas de escribir la misma marca (ej: \"Toyota\", \"TOYOTA\", \"Toyota \").\n",
        "3.  **`linea`**: Similar a la marca, las líneas o modelos pueden tener inconsistencias en la escritura.\n",
        "4.  **`modelo_del_vehiculo`**: Los años del modelo pueden presentarse en diferentes formatos o con errores.\n",
        "5.  **`distintivo`**: Aunque ya se realizó una normalización inicial, podría haber otras variaciones o valores que necesiten ser estandarizados.\n",
        "6.  **`tipo_de_vehiculo`**: Podría haber sinónimos o errores tipográficos.\n",
        "7.  **`tipo_de_importador`**: Similar a las anteriores, puede contener inconsistencias.\n",
        "8.  **`tipo_combustible`**: Podría haber diferentes formas de nombrar el mismo tipo de combustible.\n",
        "\n",
        "**Estrategia de Limpieza para Variables Clave:**\n",
        "\n",
        "Aquí se detalla una estrategia para limpiar las variables identificadas, manteniendo la precisión ortográfica donde sea posible:\n",
        "\n",
        "*   **`aduana_de_ingreso`**:\n",
        "    *   Convertir todo a mayúsculas o minúsculas para uniformar.\n",
        "    *   Eliminar espacios en blanco al inicio y al final.\n",
        "    *   Identificar y corregir errores ortográficos comunes o variaciones en los nombres de las aduanas utilizando técnicas como *fuzzy matching* o diccionarios de corrección si es necesario.\n",
        "    *   Verificar si hay nombres de aduanas que sean sinónimos y unificarlos (ej: \"Puerto Quetzal\" y \"Pto. Quetzal\").\n",
        "\n",
        "*   **`marca`, `linea`, `modelo_del_vehiculo`**:\n",
        "    *   Convertir todo a mayúsculas para estandarizar.\n",
        "    *   Eliminar espacios en blanco al inicio y al final.\n",
        "    *   Identificar y corregir errores ortográficos o variaciones en los nombres (ej: \"TOYOTA COROLLA\" vs \"COROLLA TOYOTA\"). Esto podría requerir un análisis más profundo y posiblemente el uso de listas de marcas y modelos conocidos.\n",
        "    *   Para `modelo_del_vehiculo`, asegurar que los años del modelo estén en un formato numérico consistente.\n",
        "\n",
        "*   **`distintivo`, `tipo_de_vehiculo`, `tipo_de_importador`, `tipo_combustible`**:\n",
        "    *   Convertir todo a mayúsculas para estandarizar.\n",
        "    *   Eliminar espacios en blanco al inicio y al final.\n",
        "    *   Identificar los valores únicos y buscar sinónimos o errores tipográficos para unificar categorías. Esto se puede hacer manualmente revisando los valores únicos o utilizando técnicas de agrupamiento de texto.\n",
        "\n",
        "**Consideraciones Adicionales:**\n",
        "\n",
        "*   **Fechas (`fecha_de_la_poliza`):** Aunque ya se realizó una conversión a formato datetime, es importante verificar si hay valores nulos (`NaT`) resultantes de errores en el formato original y decidir cómo manejarlos (ej: eliminarlos, imputarlos si es posible).\n",
        "*   **Valores Numéricos (`centimetros_cubicos`, `asientos`, `puertas`, `tonelaje`, `modelo_del_vehiculo` como año):** Verificar tipos de datos y convertir a numéricos si es necesario. Identificar y manejar valores atípicos o erróneos (ej: números negativos, valores irrazonables).\n",
        "*   **Variables con pocos valores únicos (`pais_de_proveniencia`):** Aunque pueden requerir menos limpieza, es bueno revisar los valores únicos para asegurar que no haya inconsistencias menores.\n",
        "\n",
        "Esta estrategia busca mejorar la calidad del conjunto de datos, haciéndolo más consistente y confiable para análisis posteriores, al tiempo que se preserva la información relevante y la ortografía correcta en los nombres de los establecimientos."
      ]
    }
  ],
  "metadata": {
    "colab": {
      "provenance": []
    },
    "kernelspec": {
      "display_name": "Python 3",
      "name": "python3"
    },
    "language_info": {
      "codemirror_mode": {
        "name": "ipython",
        "version": 3
      },
      "file_extension": ".py",
      "mimetype": "text/x-python",
      "name": "python",
      "nbconvert_exporter": "python",
      "pygments_lexer": "ipython3",
      "version": "3.13.3"
    }
  },
  "nbformat": 4,
  "nbformat_minor": 0
}
